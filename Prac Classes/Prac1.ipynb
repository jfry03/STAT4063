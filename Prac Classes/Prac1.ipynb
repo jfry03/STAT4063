{
 "cells": [
  {
   "cell_type": "code",
   "execution_count": 1,
   "id": "e872cefe",
   "metadata": {},
   "outputs": [],
   "source": [
    "import numpy as np\n",
    "import matplotlib.pyplot as plt"
   ]
  },
  {
   "cell_type": "markdown",
   "id": "a499ea3e",
   "metadata": {},
   "source": [
    "**Question 1**"
   ]
  },
  {
   "cell_type": "code",
   "execution_count": 13,
   "id": "c402aaee",
   "metadata": {},
   "outputs": [
    {
     "data": {
      "text/plain": [
       "array([0.50258441, 2.05834428, 1.87954068, 0.03979992, 0.26536607,\n",
       "       0.13757252, 0.86105102, 0.31286172, 0.4264147 , 2.77557491,\n",
       "       0.4587077 , 3.16993369, 2.98169893, 0.77925473, 2.92585558,\n",
       "       1.23995811, 1.13079802, 0.63595753, 0.03266001, 1.12072631,\n",
       "       0.50217332, 0.25598452, 0.18333132, 0.06230105, 0.32606048,\n",
       "       0.41183758, 0.84152221, 0.25715664, 0.80687165, 0.27230024,\n",
       "       0.70939786, 0.43343197, 2.05600608, 0.65591486, 0.17379735,\n",
       "       0.35295695, 0.59730543, 2.4032172 , 1.64390792, 2.74450687,\n",
       "       1.84568023, 0.86526817, 0.63947562, 2.60079428, 2.5727094 ,\n",
       "       2.95023844, 0.22637386, 0.85539667, 0.51929206, 0.11336431,\n",
       "       0.10852902, 1.31435861, 0.37041496, 0.72868522, 1.5602864 ,\n",
       "       0.22014591, 0.64898494, 0.33088587, 0.69841817, 1.95815963,\n",
       "       3.46069623, 0.61620987, 0.72939481, 1.31219108, 0.29007646,\n",
       "       0.22465529, 1.73575314, 0.13675931, 0.91329498, 3.07095103,\n",
       "       0.00983104, 0.71017823, 0.22494537, 0.45307966, 1.47733462,\n",
       "       0.1234518 , 0.30303973, 1.03197709, 1.1719137 , 2.14862715,\n",
       "       4.63802658, 0.33626348, 0.0344454 , 0.22940299, 0.14996453,\n",
       "       0.18658709, 2.02601071, 0.34135161, 0.2826425 , 0.07088211,\n",
       "       2.73477914, 0.20360822, 0.55621316, 1.76708931, 0.01349705,\n",
       "       0.9189035 , 1.78738415, 1.43077022, 1.82550361, 0.64460131])"
      ]
     },
     "execution_count": 13,
     "metadata": {},
     "output_type": "execute_result"
    }
   ],
   "source": [
    "sample = np.random.exponential(1, 100)\n",
    "\n",
    "sample"
   ]
  },
  {
   "cell_type": "code",
   "execution_count": 19,
   "id": "8f1e58c6",
   "metadata": {},
   "outputs": [],
   "source": [
    "def l_prime_q1(theta, sample):\n",
    "    return len(sample)/theta - np.sum(sample)\n",
    "\n",
    "def l_prime2_q3(theta, sample):\n",
    "    return -len(sample)/theta**2"
   ]
  },
  {
   "cell_type": "code",
   "execution_count": 20,
   "id": "b49725ec",
   "metadata": {},
   "outputs": [],
   "source": [
    "def bisection_method(f, a, b, tol=1e-6):\n",
    "    if f(a) * f(b) > 0:\n",
    "        raise ValueError(\"f(a) and f(b) must have different signs\")\n",
    "    \n",
    "    for _ in range(100):\n",
    "        mid = (a + b) / 2\n",
    "        if f(mid) == 0 or (b - a) / 2 < tol:\n",
    "            return mid\n",
    "        if f(mid) * f(a) < 0:\n",
    "            b = mid\n",
    "        else:\n",
    "            a = mid\n",
    "    print(\"No Convergence\")\n",
    "    return mid"
   ]
  },
  {
   "cell_type": "code",
   "execution_count": 21,
   "id": "cbda0958",
   "metadata": {},
   "outputs": [
    {
     "data": {
      "text/plain": [
       "0.9913324236869809"
      ]
     },
     "execution_count": 21,
     "metadata": {},
     "output_type": "execute_result"
    }
   ],
   "source": [
    "bisection_method(lambda x: l_prime_q1(x, sample), 0.05, 4)"
   ]
  },
  {
   "cell_type": "code",
   "execution_count": 23,
   "id": "80d8dba2",
   "metadata": {},
   "outputs": [],
   "source": [
    "def newton_raphson(f, f_prime, x0, tolerance):\n",
    "    x = x0\n",
    "    for _ in range(100):\n",
    "        fx = f(x)\n",
    "        if abs(fx) < tolerance:\n",
    "            return x\n",
    "        f_prime_x = f_prime(x)\n",
    "        if f_prime_x == 0:\n",
    "            raise ValueError(\"Derivative is zero, no solution found\")\n",
    "        x -= fx/f_prime_x\n",
    "    print(\"No Convergence\")\n",
    "    return x"
   ]
  },
  {
   "cell_type": "code",
   "execution_count": 24,
   "id": "78f40b69",
   "metadata": {},
   "outputs": [
    {
     "data": {
      "text/plain": [
       "0.9913318799136202"
      ]
     },
     "execution_count": 24,
     "metadata": {},
     "output_type": "execute_result"
    }
   ],
   "source": [
    "newton_raphson(lambda x: l_prime_q1(x, sample), lambda x: l_prime2_q3(x, sample), 0.1, 1e-6)"
   ]
  },
  {
   "cell_type": "markdown",
   "id": "21cc8556",
   "metadata": {},
   "source": [
    "**Question 3**"
   ]
  },
  {
   "cell_type": "code",
   "execution_count": 41,
   "id": "2bc6a704",
   "metadata": {},
   "outputs": [],
   "source": [
    "sample = np.random.normal(0, 3, 100)"
   ]
  },
  {
   "cell_type": "code",
   "execution_count": 42,
   "id": "b4dc96c7",
   "metadata": {},
   "outputs": [
    {
     "data": {
      "text/plain": [
       "array([-2.15240835e+00,  5.33123913e-01,  1.62853024e+00, -1.94660076e+00,\n",
       "        2.77580016e+00,  2.37542268e+00, -2.06281538e+00,  4.10952379e-01,\n",
       "       -2.90080448e+00, -4.32294013e+00, -4.36327949e+00,  1.40060166e+00,\n",
       "        2.66849716e+00,  9.60327439e-01, -2.38874594e+00,  3.16410815e+00,\n",
       "       -4.55102149e+00, -1.53915684e+00, -3.91549542e-01, -3.81356491e+00,\n",
       "       -2.46491218e-01,  5.53404702e-01, -3.16274166e+00,  1.54139825e+00,\n",
       "        1.48223955e+00, -2.45967699e+00,  3.88647186e-01, -1.35077550e-01,\n",
       "        1.87436460e+00,  8.28889331e-01,  1.55894146e+00, -4.13284240e+00,\n",
       "        5.45594607e+00, -4.65472209e+00, -3.83337391e-01, -8.33870331e+00,\n",
       "       -3.04545687e+00, -2.27990810e+00, -2.97394350e+00, -4.08302524e+00,\n",
       "        1.77974923e+00,  1.71544939e+00, -3.43388243e+00, -1.95133616e+00,\n",
       "       -4.83469616e+00, -8.64903087e-01, -2.08230633e-01,  6.68411530e-01,\n",
       "        4.83628232e-01,  1.77201299e+00, -3.44947807e+00,  3.60574093e+00,\n",
       "        2.77148866e+00,  4.17048830e+00, -3.27523613e+00,  1.84388683e+00,\n",
       "        1.15577942e+00, -4.80064964e+00, -1.07893388e+00,  3.18008571e+00,\n",
       "        9.91616380e-02,  3.16346183e+00,  4.15787693e+00,  5.11043781e+00,\n",
       "        6.00179910e-01,  6.14848151e+00, -6.56198707e-01, -1.67005802e-01,\n",
       "        8.26159696e-01, -4.41819059e-01,  1.92015333e+00,  9.70902670e-02,\n",
       "       -1.08068602e+00,  5.30540701e+00, -2.89363590e+00,  1.20584394e+00,\n",
       "       -3.78228119e+00, -2.78039725e-03, -5.01813785e+00, -3.65052558e+00,\n",
       "       -1.63328743e+00,  2.87377740e+00,  1.62897010e+00,  3.22700481e+00,\n",
       "       -8.85877267e-01, -1.81255484e+00,  3.46040159e+00,  7.60305695e-02,\n",
       "       -2.64474663e-01, -2.04179595e+00, -2.40739973e+00,  2.10010567e+00,\n",
       "        1.62336170e+00,  3.83249003e+00,  2.72646052e+00, -9.88901796e+00,\n",
       "        1.87706314e+00, -6.00383892e-01, -2.98284523e+00,  3.64826966e+00])"
      ]
     },
     "execution_count": 42,
     "metadata": {},
     "output_type": "execute_result"
    }
   ],
   "source": [
    "sample"
   ]
  },
  {
   "cell_type": "code",
   "execution_count": 43,
   "id": "c81355e9",
   "metadata": {},
   "outputs": [],
   "source": [
    "def q3_update(theta, sample):\n",
    "    n = len(sample)\n",
    "    numerator = -n * (theta ** 3) + theta * np.sum(sample ** 2)\n",
    "    denominator = -3 * np.sum(sample ** 2) + n  * (theta ** 2)\n",
    "    return numerator/ denominator"
   ]
  },
  {
   "cell_type": "code",
   "execution_count": 44,
   "id": "539c2dc6",
   "metadata": {},
   "outputs": [],
   "source": [
    "theta_0 = 0.1\n",
    "\n",
    "for _ in range(100):\n",
    "    theta_0 -= q3_update(theta_0, sample)\n"
   ]
  },
  {
   "cell_type": "code",
   "execution_count": 45,
   "id": "fa31e26b",
   "metadata": {},
   "outputs": [
    {
     "data": {
      "text/plain": [
       "2.976419317910657"
      ]
     },
     "execution_count": 45,
     "metadata": {},
     "output_type": "execute_result"
    }
   ],
   "source": [
    "theta_0"
   ]
  },
  {
   "cell_type": "markdown",
   "id": "d908162e",
   "metadata": {},
   "source": [
    "**Question 5**"
   ]
  },
  {
   "cell_type": "code",
   "execution_count": 61,
   "id": "e5effc00",
   "metadata": {},
   "outputs": [],
   "source": [
    "sample_x = np.linspace(0.1, 1, 100)\n",
    "sample_y = 1/(0.6 + sample_x) + np.random.normal(0, 0.01, 100)"
   ]
  },
  {
   "cell_type": "code",
   "execution_count": 62,
   "id": "a22a9f3d",
   "metadata": {},
   "outputs": [
    {
     "data": {
      "image/png": "[encoded data removed]",
      "text/plain": [
       "<Figure size 640x480 with 1 Axes>"
      ]
     },
     "metadata": {},
     "output_type": "display_data"
    }
   ],
   "source": [
    "plt.plot(sample_x, sample_y, 'o', label='Sample Data')\n",
    "plt.show()"
   ]
  },
  {
   "cell_type": "code",
   "execution_count": 63,
   "id": "144cff9e",
   "metadata": {},
   "outputs": [
    {
     "data": {
      "text/plain": [
       "array([0.1       , 0.10909091, 0.11818182, 0.12727273, 0.13636364,\n",
       "       0.14545455, 0.15454545, 0.16363636, 0.17272727, 0.18181818,\n",
       "       0.19090909, 0.2       , 0.20909091, 0.21818182, 0.22727273,\n",
       "       0.23636364, 0.24545455, 0.25454545, 0.26363636, 0.27272727,\n",
       "       0.28181818, 0.29090909, 0.3       , 0.30909091, 0.31818182,\n",
       "       0.32727273, 0.33636364, 0.34545455, 0.35454545, 0.36363636,\n",
       "       0.37272727, 0.38181818, 0.39090909, 0.4       , 0.40909091,\n",
       "       0.41818182, 0.42727273, 0.43636364, 0.44545455, 0.45454545,\n",
       "       0.46363636, 0.47272727, 0.48181818, 0.49090909, 0.5       ,\n",
       "       0.50909091, 0.51818182, 0.52727273, 0.53636364, 0.54545455,\n",
       "       0.55454545, 0.56363636, 0.57272727, 0.58181818, 0.59090909,\n",
       "       0.6       , 0.60909091, 0.61818182, 0.62727273, 0.63636364,\n",
       "       0.64545455, 0.65454545, 0.66363636, 0.67272727, 0.68181818,\n",
       "       0.69090909, 0.7       , 0.70909091, 0.71818182, 0.72727273,\n",
       "       0.73636364, 0.74545455, 0.75454545, 0.76363636, 0.77272727,\n",
       "       0.78181818, 0.79090909, 0.8       , 0.80909091, 0.81818182,\n",
       "       0.82727273, 0.83636364, 0.84545455, 0.85454545, 0.86363636,\n",
       "       0.87272727, 0.88181818, 0.89090909, 0.9       , 0.90909091,\n",
       "       0.91818182, 0.92727273, 0.93636364, 0.94545455, 0.95454545,\n",
       "       0.96363636, 0.97272727, 0.98181818, 0.99090909, 1.        ])"
      ]
     },
     "execution_count": 63,
     "metadata": {},
     "output_type": "execute_result"
    }
   ],
   "source": [
    "sample_x"
   ]
  },
  {
   "cell_type": "code",
   "execution_count": 64,
   "id": "e6648c51",
   "metadata": {},
   "outputs": [],
   "source": [
    "def X(theta, sample_x):\n",
    "    return (-1 / (theta + sample_x) ** 2).reshape(-1, 1)"
   ]
  },
  {
   "cell_type": "code",
   "execution_count": 65,
   "id": "30e34903",
   "metadata": {},
   "outputs": [],
   "source": [
    "def e(theta, sample_x, sample_y):\n",
    "    return (sample_y - 1 / (theta + sample_x)).reshape(-1, 1)"
   ]
  },
  {
   "cell_type": "code",
   "execution_count": 66,
   "id": "4c60de9b",
   "metadata": {},
   "outputs": [],
   "source": [
    "theta_0 = 0.5\n",
    "\n",
    "for _ in range(100):\n",
    "    X_ = X(theta_0, sample_x)\n",
    "    e_ = e(theta_0, sample_x, sample_y)\n",
    "    theta_1 = theta_0 + np.linalg.inv(X_.T @ X_) @ X_.T @ e_\n",
    "    theta_0 = theta_1"
   ]
  },
  {
   "cell_type": "code",
   "execution_count": 67,
   "id": "b142979d",
   "metadata": {},
   "outputs": [
    {
     "data": {
      "text/plain": [
       "array([[0.5991923]])"
      ]
     },
     "execution_count": 67,
     "metadata": {},
     "output_type": "execute_result"
    }
   ],
   "source": [
    "theta_0"
   ]
  },
  {
   "cell_type": "markdown",
   "id": "6d44867f",
   "metadata": {},
   "source": [
    "**Qestion 6**"
   ]
  },
  {
   "cell_type": "code",
   "execution_count": 83,
   "id": "50800b05",
   "metadata": {},
   "outputs": [],
   "source": [
    "sample = np.random.normal(0, 2, 100)"
   ]
  },
  {
   "cell_type": "code",
   "execution_count": 87,
   "id": "22706708",
   "metadata": {},
   "outputs": [],
   "source": [
    "def update_q6(theta, sample):\n",
    "    n = len(sample)\n",
    "    numerator = np.sum(sample ** 2) + theta**2\n",
    "    denominator = n + 1\n",
    "\n",
    "    return (numerator / denominator)**0.5"
   ]
  },
  {
   "cell_type": "code",
   "execution_count": 88,
   "id": "c4ccb528",
   "metadata": {},
   "outputs": [],
   "source": [
    "theta_0 = 1.5\n",
    "for _ in range(100):\n",
    "    theta_new = update_q6(theta_0, sample)\n",
    "    theta_0 = theta_new"
   ]
  },
  {
   "cell_type": "code",
   "execution_count": 89,
   "id": "2ad927d5",
   "metadata": {},
   "outputs": [
    {
     "data": {
      "text/plain": [
       "2.0514784503961314"
      ]
     },
     "execution_count": 89,
     "metadata": {},
     "output_type": "execute_result"
    }
   ],
   "source": [
    "theta_new"
   ]
  },
  {
   "cell_type": "markdown",
   "id": "d8632980",
   "metadata": {},
   "source": []
  }
 ],
 "metadata": {
  "kernelspec": {
   "display_name": "research_env",
   "language": "python",
   "name": "python3"
  },
  "language_info": {
   "codemirror_mode": {
    "name": "ipython",
    "version": 3
   },
   "file_extension": ".py",
   "mimetype": "text/x-python",
   "name": "python",
   "nbconvert_exporter": "python",
   "pygments_lexer": "ipython3",
   "version": "3.11.11"
  }
 },
 "nbformat": 4,
 "nbformat_minor": 5
}
