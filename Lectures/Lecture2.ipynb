{
 "cells": [
  {
   "cell_type": "code",
   "execution_count": 2,
   "id": "96ff6542",
   "metadata": {},
   "outputs": [],
   "source": [
    "from scipy.special import digamma, gamma, polygamma\n",
    "import numpy as np\n",
    "import matplotlib.pyplot as plt"
   ]
  },
  {
   "cell_type": "markdown",
   "id": "0c11d53a",
   "metadata": {},
   "source": [
    "Convergence of bisection is guaranteed if $\\theta^*$ is in [$a_0, b_0$] -> pretty safe as a method. Get this by intermediate value theorem I think. Interval converges $\\frac{1}{2^t}$"
   ]
  },
  {
   "cell_type": "markdown",
   "id": "dc2757b4",
   "metadata": {},
   "source": [
    "### **Newton-Raphson**\n",
    "\n"
   ]
  },
  {
   "cell_type": "markdown",
   "id": "6a912b9f",
   "metadata": {},
   "source": [
    "The apple Newton -> that guy. \n",
    "\n",
    "Search for $l'(\\theta) = 0$ by linear approximation. Then solve the tangent line for when that hits zero. \n",
    "\n",
    "Update step is:\n",
    "\n",
    "$$\n",
    "\\theta^{[t+1]} = \\theta^{[t]} - \\frac{l'(\\theta^{[t]})}{l''(\\theta^{[t]})}\n",
    "$$"
   ]
  },
  {
   "cell_type": "code",
   "execution_count": 3,
   "id": "d96477f5",
   "metadata": {},
   "outputs": [],
   "source": [
    "X = (0.44, 0.89, 0.76, 3.99, 3.39, 1.31, 0.98, 3.51, 0.35, 2.06)\n",
    "\n",
    "def gamma_deriv(X, theta):\n",
    "    n = len(X)\n",
    "    return -n * digamma(theta) + sum(np.log(X))\n",
    "\n",
    "def gamme_deriv_2(X, theta):\n",
    "    n = len(X)\n",
    "    return -n * polygamma(1, theta)"
   ]
  },
  {
   "cell_type": "code",
   "execution_count": 4,
   "id": "e04fcff1",
   "metadata": {},
   "outputs": [],
   "source": [
    "def newton_raphson(f, f_prime, theta_0, tol=1e-6, max_iter=100):\n",
    "    theta = theta_0\n",
    "    for _ in range(max_iter):\n",
    "        f_val = f(X, theta)\n",
    "        f_prime_val = f_prime(X, theta)\n",
    "        if abs(f_prime_val) < tol:\n",
    "            break\n",
    "        theta -= f_val / f_prime_val\n",
    "    return theta"
   ]
  },
  {
   "cell_type": "code",
   "execution_count": 5,
   "id": "0ca99214",
   "metadata": {},
   "outputs": [
    {
     "data": {
      "text/plain": [
       "1.7626576264629292"
      ]
     },
     "execution_count": 5,
     "metadata": {},
     "output_type": "execute_result"
    }
   ],
   "source": [
    "newton_raphson(gamma_deriv, gamme_deriv_2, theta_0=0.01)"
   ]
  },
  {
   "cell_type": "code",
   "execution_count": 6,
   "id": "69f06917",
   "metadata": {},
   "outputs": [],
   "source": [
    "def secant_method(f, theta_0, theta_1, tol = 1e-6, max_iter=100):\n",
    "    f_theta_0 = f(theta_0)\n",
    "\n",
    "    for _ in range(max_iter):\n",
    "        f_theta_1 = f(theta_1)\n",
    "\n",
    "        f_prime = (f_theta_1 - f_theta_0) / (theta_1 - theta_0)\n",
    "        theta_1, theta_0 = theta_1 - f_theta_1 / f_prime, theta_1\n",
    "        if abs(f(theta_1)) < tol:\n",
    "            return theta_1\n",
    "        \n",
    "        f_theta_0 = f_theta_1\n",
    "    \n",
    "    print(\"Did not converge\")\n",
    "    return theta_1\n",
    "\n",
    "\n",
    "\n",
    "\n"
   ]
  },
  {
   "cell_type": "code",
   "execution_count": 8,
   "id": "3e8fb5cc",
   "metadata": {},
   "outputs": [
    {
     "data": {
      "text/plain": [
       "1.7626576127812554"
      ]
     },
     "execution_count": 8,
     "metadata": {},
     "output_type": "execute_result"
    }
   ],
   "source": [
    "secant_method(lambda x: gamma_deriv(X, x), theta_0=0.01, theta_1=0.02)"
   ]
  },
  {
   "cell_type": "code",
   "execution_count": 9,
   "id": "df646edf",
   "metadata": {},
   "outputs": [],
   "source": [
    "x = np.linspace(0, 2 * np.pi, 200)\n",
    "theta = 2\n",
    "y = np.exp(-theta * x) + np.random.normal(loc=0, scale=0.01, size=200)"
   ]
  },
  {
   "cell_type": "code",
   "execution_count": 11,
   "id": "9525411b",
   "metadata": {},
   "outputs": [
    {
     "data": {
      "image/png": "[encoded data removed]",
      "text/plain": [
       "<Figure size 640x480 with 1 Axes>"
      ]
     },
     "metadata": {},
     "output_type": "display_data"
    }
   ],
   "source": [
    "plt.plot(x, y)\n",
    "plt.show()"
   ]
  },
  {
   "cell_type": "code",
   "execution_count": 22,
   "id": "f0c06b7d",
   "metadata": {},
   "outputs": [],
   "source": [
    "def gauss_newton(x_vals, y_vals, theta_0, tol=1e-6, max_iter=100):\n",
    "    \n",
    "    for _ in range(max_iter):\n",
    "        e = (y_vals - np.exp(-theta_0 * x_vals)).reshape(-1, 1)\n",
    "\n",
    "        X = (-np.exp(-theta_0 * x_vals) * x_vals).reshape(-1, 1)\n",
    "        theta_0 = theta_0 + np.linalg.inv((X.T @ X)) @ (X.T @ e)\n",
    "    \n",
    "    return theta_0\n"
   ]
  },
  {
   "cell_type": "code",
   "execution_count": 24,
   "id": "168822c8",
   "metadata": {},
   "outputs": [
    {
     "data": {
      "text/plain": [
       "array([[1.99396357]])"
      ]
     },
     "execution_count": 24,
     "metadata": {},
     "output_type": "execute_result"
    }
   ],
   "source": [
    "gauss_newton(x_vals=x, y_vals=y, theta_0=0.01)"
   ]
  },
  {
   "cell_type": "markdown",
   "id": "0559ed83",
   "metadata": {},
   "source": [
    "Ok, so now we try this for the likelihood of the previous data."
   ]
  }
 ],
 "metadata": {
  "kernelspec": {
   "display_name": "research_env",
   "language": "python",
   "name": "python3"
  },
  "language_info": {
   "codemirror_mode": {
    "name": "ipython",
    "version": 3
   },
   "file_extension": ".py",
   "mimetype": "text/x-python",
   "name": "python",
   "nbconvert_exporter": "python",
   "pygments_lexer": "ipython3",
   "version": "3.11.11"
  }
 },
 "nbformat": 4,
 "nbformat_minor": 5
}
